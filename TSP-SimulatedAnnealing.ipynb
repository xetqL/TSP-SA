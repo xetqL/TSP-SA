{
 "cells": [
  {
   "cell_type": "code",
   "execution_count": 6,
   "metadata": {},
   "outputs": [],
   "source": [
    "import math\n",
    "import sys\n",
    "import numpy as np\n",
    "import matplotlib.pyplot as plt\n",
    "from numba import njit, jit\n",
    "from copy import deepcopy"
   ]
  },
  {
   "cell_type": "code",
   "execution_count": 7,
   "metadata": {},
   "outputs": [],
   "source": [
    "def accept_matrix(deltaFitness, temp):\n",
    "    return np.minimum(np.ones(deltaFitness.shape), np.exp(-(deltaFitness)/temp))\n",
    "@jit\n",
    "def accept(deltaFitness, temp):\n",
    "    return np.random.uniform(0, 1) < min(1.0, math.exp(-(deltaFitness)/temp))\n",
    "@jit\n",
    "def set_initial_temperature(m1, m2, avgFitnessDiff, p0):\n",
    "    return -avgFitnessDiff / math.log(p0)\n",
    "\n",
    "def simulated_annealing_bootstrap(S_current, targetInitTemp, funcFitness, funcMove):\n",
    "    from copy import deepcopy\n",
    "    fitnessDiffSum = 0\n",
    "    #bootstrapping \n",
    "    S = deepcopy(S_current)\n",
    "    currentFitness = funcFitness(S)\n",
    "    m1=m2=0\n",
    "    for i in range(100):\n",
    "        _S = funcMove(deepcopy(S))\n",
    "        dE = funcFitness(_S) - currentFitness\n",
    "        if dE <= 0: \n",
    "            m1+=1\n",
    "            fitnessDiffSum += -dE\n",
    "    print(fitnessDiffSum)\n",
    "    return set_initial_temperature(m1, m2, fitnessDiffSum / m1, targetInitTemp)\n",
    "\n",
    "def simulated_annealing(S_current, initAccept, funcFitness, funcMove):\n",
    "    T = simulated_annealing_bootstrap(S_current, initAccept, funcFitness, funcMove)\n",
    "    N = len(S_current)\n",
    "    hasntImproved = 0\n",
    "    bestFitness = funcFitness(S_current)\n",
    "    sys.stdout.write(\"Temperature: %f; Current Fitness: %d\\t\\r\"%(T,funcFitness(S_current)))\n",
    "    sys.stdout.flush()\n",
    "    while hasntImproved < 3:\n",
    "        N_iter = 0\n",
    "        N_accept = 0\n",
    "        currentFitness = funcFitness(S_current)\n",
    "        hasImproved = False\n",
    "        while N_accept < 12*N and N_iter < 100*N:\n",
    "            S_new = funcMove(deepcopy(S_current))\n",
    "            newFitness = funcFitness(S_new)\n",
    "            if accept(newFitness-currentFitness, T):\n",
    "                S_current = S_new\n",
    "                N_accept += 1\n",
    "            if newFitness-currentFitness < 0:\n",
    "                hasImproved = True\n",
    "            N_iter += 1\n",
    "        if not hasImproved:\n",
    "            hasntImproved += 1\n",
    "        else:\n",
    "            hasntImproved = 0\n",
    "        sys.stdout.write(\"Temperature: %f;  Current Fitness: %f\\t\\r\" % (T, funcFitness(S_current)))\n",
    "        sys.stdout.flush()            \n",
    "        T = 0.8*T\n",
    "    return S_current"
   ]
  },
  {
   "cell_type": "code",
   "execution_count": 11,
   "metadata": {},
   "outputs": [],
   "source": [
    "@jit\n",
    "def fitness(solution, distance):\n",
    "    cost = 0\n",
    "    for i in range(len(solution)-1):\n",
    "        cost += distance[solution[i]][solution[i+1]]\n",
    "    cost += distance[solution[-1]][solution[0]]\n",
    "    return cost  \n",
    "\n",
    "def move(solution, distance):\n",
    "    first, second = int(np.random.uniform(len(solution))), int(np.random.uniform(len(solution)))\n",
    "    while first == second:\n",
    "        second = int(np.random.uniform(len(solution)))\n",
    "    solution[first], solution[second] = solution[second], solution[first]   \n",
    "    return solution\n",
    "\n",
    "@njit\n",
    "def two_opt_algorithm(solution, distance):\n",
    "    change = True\n",
    "    while change:\n",
    "        change = False\n",
    "        for i, _ in enumerate(solution[:-1]):\n",
    "            for j, _ in enumerate(solution[:-1]):\n",
    "                if j != i-1 and j != i and j != i+1:\n",
    "                    if distance[solution[i]][solution[i+1]] + distance[solution[j]][solution[j+1]] >= distance[solution[i]][solution[j]] + distance[solution[i+1]][solution[j+1]]:\n",
    "                        solution[i+1], solution[j] = solution[j], solution[i+1]\n",
    "                        change = True\n",
    "    return solution\n",
    "\n",
    "def two_opt_move(solution, distance):\n",
    "    id1    = list(range(len(solution)))\n",
    "    id2    = list(range(len(solution)))\n",
    "    np.random.shuffle(id1)\n",
    "    np.random.shuffle(id2)\n",
    "    S = len(solution)\n",
    "    for i in id1:\n",
    "        for j in id2:\n",
    "            if j != i-1 and j != i and j != i+1:\n",
    "                if distance[solution[i]][solution[(i+1)%S]] + distance[solution[j]][solution[(j+1)%S]] >= distance[solution[i]][solution[j]] + distance[solution[(i+1)%S]][solution[(j+1)%S]]:\n",
    "                    solution[(i+1)%S], solution[j] = solution[j], solution[(i+1)%S]\n",
    "    return solution\n",
    "\n",
    "def get_travel(solution, city_points):\n",
    "    travel = []\n",
    "    for v in solution:\n",
    "        travel.append(city_points[v])\n",
    "    travel.append(city_points[solution[0]])\n",
    "    return np.array(travel)\n",
    "\n",
    "def init_tsp(NB_CITIES):\n",
    "    cities = np.random.rand(NB_CITIES, 2)\n",
    "    distances = np.zeros((NB_CITIES, NB_CITIES))\n",
    "\n",
    "    for from_city, p1 in enumerate(cities):\n",
    "        for to_city, p2 in enumerate(cities):\n",
    "            if from_city != to_city:\n",
    "                distances[from_city][to_city] = distances[to_city][from_city] = np.linalg.norm(p1-p2)\n",
    "    return cities, distances"
   ]
  },
  {
   "cell_type": "code",
   "execution_count": 12,
   "metadata": {
    "scrolled": false
   },
   "outputs": [
    {
     "name": "stdout",
     "output_type": "stream",
     "text": [
      "709.5905050859624\n",
      "[1, 20, 16, 18, 23, 28, 21, 2, 4, 13, 10, 25, 0, 11, 8, 26, 9, 24, 17, 7, 5, 14, 27, 29, 12, 3, 6, 15, 22, 19]\n",
      "4.456204178286104\n"
     ]
    },
    {
     "data": {
      "text/plain": [
       "<matplotlib.collections.PathCollection at 0x1b39cbcbe80>"
      ]
     },
     "execution_count": 12,
     "metadata": {},
     "output_type": "execute_result"
    },
    {
     "data": {
      "image/png": "[encoded data removed]",
      "text/plain": [
       "<Figure size 432x288 with 1 Axes>"
      ]
     },
     "metadata": {
      "needs_background": "light"
     },
     "output_type": "display_data"
    }
   ],
   "source": [
    "#%%prun -s cumulative -q -l 10 -T prun0\n",
    "NB_CITIES=30\n",
    "cities, distances = init_tsp(NB_CITIES)\n",
    "solution=(list(range(NB_CITIES)))\n",
    "np.random.shuffle(solution)\n",
    "solution = simulated_annealing(solution, 0.3, lambda solution: fitness(solution, distances), lambda solution: two_opt_move(solution, distances))\n",
    "print(solution)\n",
    "print(fitness(solution, distances))\n",
    "x, y = zip(*get_travel(solution, deepcopy(cities)))\n",
    "plt.plot(x,y)\n",
    "x, y = zip(*cities)\n",
    "plt.scatter(x, y, marker='*') \n"
   ]
  },
  {
   "cell_type": "code",
   "execution_count": 10,
   "metadata": {},
   "outputs": [
    {
     "name": "stdout",
     "output_type": "stream",
     "text": [
      "         81082693 function calls (79264498 primitive calls) in 29.811 seconds\n",
      "\n",
      "   Ordered by: cumulative time\n",
      "   List reduced from 2512 to 10 due to restriction <10>\n",
      "\n",
      "   ncalls  tottime  percall  cumtime  percall filename:lineno(function)\n",
      "        1    0.000    0.000   31.345   31.345 {built-in method builtins.exec}\n",
      "        1    0.000    0.000   31.345   31.345 <string>:2(<module>)\n",
      "      2/1    0.202    0.101   31.154   31.154 <ipython-input-7-cedba540b1dc>:29(simulated_annealing)\n",
      "  6880499    3.935    0.000   21.748    0.000 typeof.py:25(typeof)\n",
      "110940/55470    4.618    0.000   21.337    0.000 <ipython-input-8-c5b10829c2cd>:29(two_opt_move)\n",
      "6880506/6880499    3.035    0.000   15.374    0.000 functools.py:819(wrapper)\n",
      "  6880428    2.557    0.000    8.434    0.000 typeof.py:105(_typeof_int)\n",
      "    55537    0.074    0.000    6.156    0.000 <string>:6(<lambda>)\n",
      "  6880428    3.919    0.000    5.877    0.000 utils.py:300(bit_length)\n",
      "    55538    0.501    0.000    5.873    0.000 <ipython-input-8-c5b10829c2cd>:1(fitness)\n"
     ]
    }
   ],
   "source": [
    "#print(open('prun0', 'r').read())"
   ]
  },
  {
   "cell_type": "code",
   "execution_count": null,
   "metadata": {},
   "outputs": [],
   "source": []
  }
 ],
 "metadata": {
  "kernelspec": {
   "display_name": "Python 3",
   "language": "python",
   "name": "python3"
  },
  "language_info": {
   "codemirror_mode": {
    "name": "ipython",
    "version": 3
   },
   "file_extension": ".py",
   "mimetype": "text/x-python",
   "name": "python",
   "nbconvert_exporter": "python",
   "pygments_lexer": "ipython3",
   "version": "3.7.0"
  }
 },
 "nbformat": 4,
 "nbformat_minor": 2
}
