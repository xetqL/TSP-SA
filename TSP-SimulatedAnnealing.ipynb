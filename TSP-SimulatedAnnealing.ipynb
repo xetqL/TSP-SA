{
 "cells": [
  {
   "cell_type": "code",
   "execution_count": 1,
   "metadata": {},
   "outputs": [],
   "source": [
    "import math\n",
    "import sys\n",
    "import numpy as np\n",
    "import matplotlib.pyplot as plt\n",
    "from numba import njit, jit\n",
    "from copy import deepcopy"
   ]
  },
  {
   "cell_type": "code",
   "execution_count": 2,
   "metadata": {},
   "outputs": [],
   "source": [
    "def accept_matrix(deltaFitness, temp):\n",
    "    return np.minimum(np.ones(deltaFitness.shape), np.exp(-(deltaFitness)/temp))\n",
    "@jit\n",
    "def accept(deltaFitness, temp):\n",
    "    return np.random.uniform(0, 1) < min(1.0, math.exp(-(deltaFitness)/temp))\n",
    "@jit\n",
    "def set_initial_temperature(m1, m2, avgFitnessDiff, p0):\n",
    "    return -avgFitnessDiff / math.log(p0)\n",
    "\n",
    "def simulated_annealing_bootstrap(S_current, targetInitTemp, funcFitness, funcMove):\n",
    "    from copy import deepcopy\n",
    "    fitnessDiffSum = 0\n",
    "    #bootstrapping \n",
    "    S = deepcopy(S_current)\n",
    "    currentFitness = funcFitness(S)\n",
    "    m1=m2=0\n",
    "    for i in range(100):\n",
    "        _S = funcMove(deepcopy(S))\n",
    "        dE = funcFitness(_S) - currentFitness\n",
    "        if dE <= 0: \n",
    "            m1+=1\n",
    "            fitnessDiffSum += -dE\n",
    "    print(fitnessDiffSum)\n",
    "    return set_initial_temperature(m1, m2, fitnessDiffSum / m1, targetInitTemp)\n",
    "\n",
    "@jit\n",
    "def simulated_annealing(S_current, initAccept, funcFitness, funcMove):\n",
    "    T = simulated_annealing_bootstrap(S_current, initAccept, funcFitness, funcMove)\n",
    "    N = len(S_current)\n",
    "    hasntImproved = 0\n",
    "    bestFitness = funcFitness(S_current)\n",
    "    sys.stdout.write(\"Temperature: %f; Current Fitness: %d\\t\\r\"%(T,funcFitness(S_current)))\n",
    "    sys.stdout.flush()\n",
    "    while hasntImproved < 3:\n",
    "        N_iter = 0\n",
    "        N_accept = 0\n",
    "        currentFitness = funcFitness(S_current)\n",
    "        hasImproved = False\n",
    "        while N_accept < 12*N and N_iter < 100*N:\n",
    "            S_new = funcMove(S_current[:])\n",
    "            newFitness = funcFitness(S_new)\n",
    "            if accept(newFitness-currentFitness, T):\n",
    "                S_current = S_new\n",
    "                N_accept += 1\n",
    "            if newFitness-currentFitness < 0:\n",
    "                hasImproved = True\n",
    "            N_iter += 1\n",
    "        if not hasImproved:\n",
    "            hasntImproved += 1\n",
    "        else:\n",
    "            hasntImproved = 0\n",
    "                   \n",
    "        T = 0.9*T\n",
    "        \n",
    "        sys.stdout.write(\"Temperature: %f;  Current Fitness: %f\\t\\r\" % (T, funcFitness(S_current)))\n",
    "        sys.stdout.flush() \n",
    "    return S_current"
   ]
  },
  {
   "cell_type": "code",
   "execution_count": 3,
   "metadata": {},
   "outputs": [],
   "source": [
    "@jit\n",
    "def fitness(solution, distance):\n",
    "    cost = 0\n",
    "    for i in range(len(solution)-1):\n",
    "        cost += distance[solution[i]][solution[i+1]]\n",
    "    cost += distance[solution[-1]][solution[0]]\n",
    "    return cost  \n",
    "\n",
    "def move(solution, distance):\n",
    "    first, second = int(np.random.uniform(len(solution))), int(np.random.uniform(len(solution)))\n",
    "    while first == second:\n",
    "        second = int(np.random.uniform(len(solution)))\n",
    "    solution[first], solution[second] = solution[second], solution[first]   \n",
    "    return solution\n",
    "\n",
    "@njit\n",
    "def two_opt_algorithm(solution, distance):\n",
    "    change = True\n",
    "    while change:\n",
    "        change = False\n",
    "        for i, _ in enumerate(solution[:-1]):\n",
    "            for j, _ in enumerate(solution[:-1]):\n",
    "                if j != i-1 and j != i and j != i+1:\n",
    "                    if distance[solution[i]][solution[i+1]] + distance[solution[j]][solution[j+1]] >= distance[solution[i]][solution[j]] + distance[solution[i+1]][solution[j+1]]:\n",
    "                        solution[i+1], solution[j] = solution[j], solution[i+1]\n",
    "                        change = True\n",
    "    return solution\n",
    "@jit\n",
    "def two_opt_move(solution, distance):\n",
    "    S = len(solution)\n",
    "    i = j = np.random.randint(0, S)\n",
    "    while i==j:\n",
    "        j = np.random.randint(0, S)\n",
    "    solution[i+1:j+1] = solution[i+1:j+1][::-1]        \n",
    "    return solution\n",
    "\n",
    "def get_travel(solution, city_points):\n",
    "    travel = []\n",
    "    for v in solution:\n",
    "        travel.append(city_points[v])\n",
    "    travel.append(city_points[solution[0]])\n",
    "    return np.array(travel)\n",
    "\n",
    "def init_tsp(NB_CITIES):\n",
    "    cities = np.random.rand(NB_CITIES, 2)\n",
    "    distances = np.zeros((NB_CITIES, NB_CITIES))\n",
    "\n",
    "    for from_city, p1 in enumerate(cities):\n",
    "        for to_city, p2 in enumerate(cities):\n",
    "            if from_city != to_city:\n",
    "                distances[from_city][to_city] = distances[to_city][from_city] = np.linalg.norm(p1-p2)\n",
    "    return cities, distances"
   ]
  },
  {
   "cell_type": "code",
   "execution_count": 5,
   "metadata": {
    "scrolled": false
   },
   "outputs": [
    {
     "name": "stdout",
     "output_type": "stream",
     "text": [
      "8.380679182244386\n",
      "[92, 9, 38, 98, 14, 17, 24, 37, 65, 93, 5, 99, 26, 78, 3, 95, 44, 28, 61, 2, 68, 10, 48, 43, 70, 45, 20, 94, 22, 35, 84, 4, 55, 11, 71, 40, 34, 30, 27, 16, 59, 8, 69, 47, 0, 50, 62, 1, 25, 29, 90, 89, 87, 31, 23, 64, 12, 63, 83, 96, 39, 80, 91, 6, 77, 82, 79, 19, 54, 86, 13, 7, 85, 72, 74, 49, 53, 32, 58, 33, 81, 76, 42, 15, 60, 73, 51, 57, 75, 67, 66, 52, 56, 18, 21, 41, 97, 36, 46, 88]\n",
      "8.309840238678268\n"
     ]
    },
    {
     "data": {
      "text/plain": [
       "<matplotlib.collections.PathCollection at 0x7fb9464dc780>"
      ]
     },
     "execution_count": 5,
     "metadata": {},
     "output_type": "execute_result"
    },
    {
     "data": {
      "image/png": "[encoded data removed]",
      "text/plain": [
       "<Figure size 432x288 with 1 Axes>"
      ]
     },
     "metadata": {
      "needs_background": "light"
     },
     "output_type": "display_data"
    }
   ],
   "source": [
    "#%%prun -s cumulative -q -l 10 -T prun0\n",
    "\n",
    "NB_CITIES = 100\n",
    "cities, distances = init_tsp(NB_CITIES)\n",
    "solution=(list(range(NB_CITIES)))\n",
    "np.random.shuffle(solution)\n",
    "\n",
    "solution = simulated_annealing(solution, 0.5, lambda solution: fitness(solution, distances), lambda solution: two_opt_move(solution, distances))\n",
    "\n",
    "print(solution)\n",
    "print(fitness(solution, distances))\n",
    "x, y = zip(*get_travel(solution, deepcopy(cities)))\n",
    "plt.plot(x,y)\n",
    "x, y = zip(*cities)\n",
    "plt.scatter(x, y, marker='*') \n"
   ]
  },
  {
   "cell_type": "code",
   "execution_count": null,
   "metadata": {},
   "outputs": [],
   "source": [
    "#print(open('prun0', 'r').read())"
   ]
  },
  {
   "cell_type": "code",
   "execution_count": null,
   "metadata": {},
   "outputs": [],
   "source": [
    "x = [1,2,3,4]"
   ]
  },
  {
   "cell_type": "code",
   "execution_count": null,
   "metadata": {},
   "outputs": [],
   "source": [
    "x.reverse()"
   ]
  }
 ],
 "metadata": {
  "kernelspec": {
   "display_name": "Python 3",
   "language": "python",
   "name": "python3"
  },
  "language_info": {
   "codemirror_mode": {
    "name": "ipython",
    "version": 3
   },
   "file_extension": ".py",
   "mimetype": "text/x-python",
   "name": "python",
   "nbconvert_exporter": "python",
   "pygments_lexer": "ipython3",
   "version": "3.6.7"
  }
 },
 "nbformat": 4,
 "nbformat_minor": 2
}
